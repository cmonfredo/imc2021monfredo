{
 "cells": [
  {
   "cell_type": "markdown",
   "id": "af5aa839",
   "metadata": {},
   "source": [
    "Calculate the values of the partials 2 thorugh 6 above 55 Hz"
   ]
  },
  {
   "cell_type": "code",
   "execution_count": 1,
   "id": "ca4a8d6e",
   "metadata": {},
   "outputs": [],
   "source": [
    "fundamental = 55"
   ]
  },
  {
   "cell_type": "code",
   "execution_count": 2,
   "id": "e9bf7c2e",
   "metadata": {},
   "outputs": [
    {
     "name": "stdout",
     "output_type": "stream",
     "text": [
      "110\n"
     ]
    }
   ],
   "source": [
    "firstPartial = fundamental * 2\n",
    "print(firstPartial)"
   ]
  },
  {
   "cell_type": "code",
   "execution_count": 3,
   "id": "34baca35",
   "metadata": {},
   "outputs": [
    {
     "name": "stdout",
     "output_type": "stream",
     "text": [
      "165\n"
     ]
    }
   ],
   "source": [
    "secondPartial = fundamental * 3\n",
    "print(secondPartial)"
   ]
  },
  {
   "cell_type": "code",
   "execution_count": 4,
   "id": "b3572fd5",
   "metadata": {},
   "outputs": [
    {
     "name": "stdout",
     "output_type": "stream",
     "text": [
      "220\n"
     ]
    }
   ],
   "source": [
    "thirdPartial = fundamental * 4\n",
    "print(thirdPartial)"
   ]
  },
  {
   "cell_type": "code",
   "execution_count": 5,
   "id": "24fea601",
   "metadata": {},
   "outputs": [
    {
     "name": "stdout",
     "output_type": "stream",
     "text": [
      "275\n"
     ]
    }
   ],
   "source": [
    "fourthPartial = fundamental * 5\n",
    "print(fourthPartial)"
   ]
  },
  {
   "cell_type": "code",
   "execution_count": 8,
   "id": "989e020d",
   "metadata": {},
   "outputs": [
    {
     "name": "stdout",
     "output_type": "stream",
     "text": [
      "330\n"
     ]
    }
   ],
   "source": [
    "fifthPartial = fundamental * 6\n",
    "print(fifthPartial)"
   ]
  },
  {
   "cell_type": "markdown",
   "id": "407edffa",
   "metadata": {},
   "source": [
    "Calculate the difference in cents between partials 2 through 6 above 55 Hz"
   ]
  },
  {
   "cell_type": "code",
   "execution_count": 9,
   "id": "e755b75e",
   "metadata": {},
   "outputs": [],
   "source": [
    "import math"
   ]
  },
  {
   "cell_type": "code",
   "execution_count": 10,
   "id": "a05c4af9",
   "metadata": {},
   "outputs": [
    {
     "name": "stdout",
     "output_type": "stream",
     "text": [
      "1200.0\n"
     ]
    }
   ],
   "source": [
    "cents = math.log(2/1) * 1200 / math.log(2)  #OCTAVE\n",
    "print(cents)"
   ]
  },
  {
   "cell_type": "code",
   "execution_count": 11,
   "id": "0aa48857",
   "metadata": {},
   "outputs": [
    {
     "name": "stdout",
     "output_type": "stream",
     "text": [
      "701.9550008653874\n"
     ]
    }
   ],
   "source": [
    "cents = math.log(165/110) * 1200 / math.log(2)  #dif between 3/2 partial; FIFTH\n",
    "print(cents)"
   ]
  },
  {
   "cell_type": "code",
   "execution_count": 12,
   "id": "f5a759a5",
   "metadata": {},
   "outputs": [
    {
     "name": "stdout",
     "output_type": "stream",
     "text": [
      "701.9550008653874\n"
     ]
    }
   ],
   "source": [
    "cents = math.log(3/2) * 1200 / math.log(2)  \n",
    "print(cents)"
   ]
  },
  {
   "cell_type": "code",
   "execution_count": 13,
   "id": "64405268",
   "metadata": {},
   "outputs": [
    {
     "name": "stdout",
     "output_type": "stream",
     "text": [
      "498.04499913461245\n"
     ]
    }
   ],
   "source": [
    "cents = math.log(4/3) * 1200 / math.log(2)   #P4\n",
    "print(cents)"
   ]
  },
  {
   "cell_type": "code",
   "execution_count": 14,
   "id": "de4be7e6",
   "metadata": {},
   "outputs": [
    {
     "name": "stdout",
     "output_type": "stream",
     "text": [
      "386.3137138648348\n"
     ]
    }
   ],
   "source": [
    "cents = math.log(5/4) * 1200 / math.log(2)    \n",
    "print(cents)"
   ]
  },
  {
   "cell_type": "code",
   "execution_count": 15,
   "id": "06c618d8",
   "metadata": {},
   "outputs": [
    {
     "name": "stdout",
     "output_type": "stream",
     "text": [
      "315.64128700055255\n"
     ]
    }
   ],
   "source": [
    "cents = math.log(6/5) * 1200 / math.log(2) \n",
    "print(cents)"
   ]
  },
  {
   "cell_type": "code",
   "execution_count": null,
   "id": "a420943b",
   "metadata": {},
   "outputs": [],
   "source": []
  }
 ],
 "metadata": {
  "kernelspec": {
   "display_name": "Python 3 (ipykernel)",
   "language": "python",
   "name": "python3"
  },
  "language_info": {
   "codemirror_mode": {
    "name": "ipython",
    "version": 3
   },
   "file_extension": ".py",
   "mimetype": "text/x-python",
   "name": "python",
   "nbconvert_exporter": "python",
   "pygments_lexer": "ipython3",
   "version": "3.9.12"
  }
 },
 "nbformat": 4,
 "nbformat_minor": 5
}
